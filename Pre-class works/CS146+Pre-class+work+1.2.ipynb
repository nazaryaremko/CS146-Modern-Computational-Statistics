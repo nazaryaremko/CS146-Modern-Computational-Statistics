{
 "cells": [
  {
   "cell_type": "code",
   "execution_count": 107,
   "metadata": {},
   "outputs": [
    {
     "name": "stdout",
     "output_type": "stream",
     "text": [
      "0.7\n"
     ]
    }
   ],
   "source": [
    "#defining the function\n",
    "def f(x):\n",
    "    return x**3 + 2*x + 1\n",
    "\n",
    "#importing the necessary library\n",
    "import numpy as np\n",
    "#defining paramters\n",
    "mu = 1\n",
    "sigma = 2\n",
    "#creating a dataset with normally distributed data around mean mu and with st dev sigma\n",
    "data = np.random.normal(loc=mu, scale=sigma, size=1000)\n",
    "count = 0\n",
    "\n",
    "#calculate how many are bigger than 1\n",
    "for i in data:\n",
    "    if f(i)>1:\n",
    "        count+=1\n",
    "print(count/data.size)\n"
   ]
  },
  {
   "cell_type": "code",
   "execution_count": 110,
   "metadata": {},
   "outputs": [
    {
     "name": "stdout",
     "output_type": "stream",
     "text": [
      "0.6914624612740131\n"
     ]
    }
   ],
   "source": [
    "#checking the theoretical P(f(x)>1)\n",
    "from scipy import stats\n",
    "f = stats.norm.cdf(0, mu, sigma)\n",
    "print(1-f)\n"
   ]
  }
 ],
 "metadata": {
  "kernelspec": {
   "display_name": "Python 3",
   "language": "python",
   "name": "python3"
  },
  "language_info": {
   "codemirror_mode": {
    "name": "ipython",
    "version": 3
   },
   "file_extension": ".py",
   "mimetype": "text/x-python",
   "name": "python",
   "nbconvert_exporter": "python",
   "pygments_lexer": "ipython3",
   "version": "3.6.3"
  }
 },
 "nbformat": 4,
 "nbformat_minor": 2
}

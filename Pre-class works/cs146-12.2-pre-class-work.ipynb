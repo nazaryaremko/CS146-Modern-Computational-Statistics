{
 "cells": [
  {
   "cell_type": "markdown",
   "metadata": {},
   "source": [
    "# Pre-class work\n",
    "\n",
    "## Problem definition\n",
    "\n",
    "In this session, we consider the following Gaussian mixture model.\n",
    "\n",
    "* 70% of the data come from a normal distribution with mean 0 and standard deviation 4. We call this the background distribution since we know the mean and standard deviation.\n",
    "* 30% of the data come from a normal distribution with unknown mean $\\mu$ and standard deviation $\\sigma$.\n",
    "* This means the likelihood function given the data set, $\\{x_i\\}$, is a weighted sum (a mixture) of two normal distributions, with weights 0.7 and 0.3.\n",
    "$$p(\\{x_i\\} \\,|\\, \\mu, \\sigma) = \\prod_{i=1}^n\\left[ 0.7\\,\\text{Normal}(x_i \\,|\\, 0, 4^2) + 0.3\\,\\text{Normal}(x_i \\,|\\, \\mu, \\sigma^2) \\right]$$\n",
    "* We are told that $\\mu$ and $\\sigma$ are not too different from the background normal distribution, and we have the following priors over them:\n",
    "  * $\\mu \\sim \\text{Normal}(0, 5^2)$\n",
    "  * $\\sigma \\sim \\text{Gamma}(2, 1)$\n",
    "\n",
    "Below is a data set for the model above. About 70% of these data were generated from $\\text{Normal}(0, 4^2)$ and about 30% from $\\text{Normal}(\\mu, \\sigma^2)$. We are interested in the posterior over $\\mu$ and $\\sigma$."
   ]
  },
  {
   "cell_type": "code",
   "execution_count": 2,
   "metadata": {},
   "outputs": [
    {
     "data": {
      "image/png": "[encoded data removed]",
      "text/plain": [
       "<matplotlib.figure.Figure at 0x7fe0c6ca7cf8>"
      ]
     },
     "metadata": {},
     "output_type": "display_data"
    }
   ],
   "source": [
    "import numpy as np\n",
    "import scipy.stats as sts\n",
    "import matplotlib.pyplot as plt\n",
    "\n",
    "data = np.array([\n",
    "    -4.127935, -2.152332, 3.046302, -10.77442, -6.985155, 5.536106, 1.294746,\n",
    "    7.638998, -5.650118, -4.478067, -0.4551435, -3.969413, -0.4225518,\n",
    "    -2.462094, 1.886675, 3.095567, 4.310003, 3.305034, 0.8548273, 4.368213])\n",
    "\n",
    "plt.figure(figsize=(8, 1))\n",
    "plt.plot(data, [0.05] * len(data), 'ko', alpha=0.5)\n",
    "plt.xlabel('x')\n",
    "plt.xticks([-10, -5, 0, 5, 10])\n",
    "plt.yticks([])\n",
    "plt.xlim(-12, 12)\n",
    "plt.title('Data for pre-class work')\n",
    "plt.show()"
   ]
  },
  {
   "cell_type": "markdown",
   "metadata": {},
   "source": [
    "Essentially the problem is that we don’t know which of these data were generated from the background distribution, of which we know the mean and variance, and which data were generated from another normal distribution with an unknown mean and variance.\n",
    "\n",
    "To get a better sense of how difficult it is to determine the normal with unknown mean and variance, the plot below shows the data along with the background distribution. The background distribution seems to account for the data set fairly well. Which data points might have been generated by another normal distribution?"
   ]
  },
  {
   "cell_type": "code",
   "execution_count": 5,
   "metadata": {},
   "outputs": [
    {
     "data": {
      "image/png": "[encoded data removed]",
      "text/plain": [
       "<matplotlib.figure.Figure at 0x7fe0c8d54710>"
      ]
     },
     "metadata": {},
     "output_type": "display_data"
    }
   ],
   "source": [
    "# Plot of the background normal distribution and the data. This shows what we\n",
    "# know about the model. What we don't know is the other normal distribution.\n",
    "\n",
    "plot_mu_range = [-12, 12]\n",
    "plot_sigma_range = [0, 4]\n",
    "plt.figure(figsize=(8, 4))\n",
    "plot_x = np.linspace(plot_mu_range[0], plot_mu_range[1], 500)\n",
    "plot_y = sts.norm.pdf(plot_x, loc=0, scale=4)\n",
    "plt.plot(plot_x, plot_y, 'k-')\n",
    "plt.plot(data, [-0.005] * len(data), 'ko', alpha=0.5)\n",
    "plt.xlim(-12, 12)\n",
    "plt.xlabel('x')\n",
    "plt.ylabel('probability density')\n",
    "plt.xticks([-10, -5, 0, 5, 10])\n",
    "plt.title('Background distribution and data')\n",
    "plt.show()"
   ]
  },
  {
   "cell_type": "markdown",
   "metadata": {},
   "source": [
    "### Question\n",
    "\n",
    "Looking at the plot of the data above, and knowing that about 70% of the data were generated from the background distribution (mean = 0, standard deviation = 4), what is your best guess for what $\\mu$ and $\\sigma$ are? Which data were generated from the background normal distribution and which were generated from the unknown normal distribution?"
   ]
  },
  {
   "cell_type": "markdown",
   "metadata": {
    "collapsed": true
   },
   "source": [
    "0 and 6 because there are a few outliers which could come from a normal distribution with a larger standard deviation."
   ]
  },
  {
   "cell_type": "markdown",
   "metadata": {},
   "source": [
    "## Posterior distribution\n",
    "\n",
    "The posterior over $\\mu$ and $\\sigma$ is proportional to the product of the likelihood and the prior.\n",
    "$$p(\\mu, \\sigma\\,|\\,\\{x_i\\}) \\propto \\text{Normal}(\\mu\\,|\\,0, 5^2) \\,\\text{Gamma}(\\sigma\\,|\\,2, 1) \\prod_{i=1}^{20} \\left[0.7\\,\\text{Normal}(x_i\\,|\\,0,4^2) + 0.3\\,\\text{Normal}(x_i\\,|\\,\\mu,\\sigma^2)\\right]$$\n",
    "\n",
    "### Question\n",
    "\n",
    "Why is it difficult to compute the normalization constant of this posterior distribution?"
   ]
  },
  {
   "cell_type": "markdown",
   "metadata": {
    "collapsed": true
   },
   "source": [
    "Because we do not have the mean and the standard deviation of the second normal distribution."
   ]
  },
  {
   "cell_type": "markdown",
   "metadata": {},
   "source": [
    "## Plot of unnormalized posterior distribution\n",
    "\n",
    "Below is the unnormalized posterior pdf function in Python, along with a 2-d contour plot of the pdf.\n",
    "\n",
    "How does the posterior over $\\mu$ and $\\sigma$ compare to your best guess for what $\\mu$ and $\\sigma$ are?"
   ]
  },
  {
   "cell_type": "code",
   "execution_count": null,
   "metadata": {},
   "outputs": [],
   "source": [
    "def unnormalized_posterior(mu, sigma, data):\n",
    "    '''\n",
    "    The unnormalized posterior pdf over μ and σ. The pdf depends on the\n",
    "    parameters, `mu` and `sigma`, as well as the `data`.\n",
    "    '''\n",
    "    if sigma <= 0:\n",
    "        # The probability of sigma <= 0 is 0. It will become clear why we need\n",
    "        # need this check a little further down, when we generate samples from\n",
    "        # a proposal distribution (not the posterior), which might give values\n",
    "        # of sigma <= 0.\n",
    "        return 0\n",
    "\n",
    "    else:\n",
    "        return (\n",
    "            sts.gamma.pdf(sigma, a=2, scale=1) *\n",
    "            sts.norm.pdf(mu, loc=0, scale=5) *\n",
    "            np.prod(\n",
    "                0.7 * sts.norm.pdf(data, loc=0, scale=4) +\n",
    "                0.3 * sts.norm.pdf(data, loc=mu, scale=sigma)))\n",
    "\n",
    "\n",
    "# Plot of the unormalized posterior using a 2-d contour plot.\n",
    "mu = np.linspace(plot_mu_range[0], plot_mu_range[1], 300)\n",
    "sigma = np.linspace(plot_sigma_range[0], plot_sigma_range[1], 300)\n",
    "posterior = np.empty((len(sigma), len(mu)))\n",
    "for i in range(len(sigma)):\n",
    "    for j in range(len(mu)):\n",
    "        posterior[i,j] = unnormalized_posterior(mu[j], sigma[i], data)\n",
    "\n",
    "plt.figure(figsize=(10, 9))\n",
    "filled = plt.contourf(mu, sigma, posterior, 11, cmap=plt.cm.YlOrRd_r)\n",
    "lines = plt.contour(mu, sigma, posterior, 11, colors='black')\n",
    "plt.title('Unnormalized posterior over μ and σ.')\n",
    "plt.xlabel('μ')\n",
    "plt.ylabel('σ')\n",
    "color_bar = plt.colorbar(filled)\n",
    "color_bar.add_lines(lines)\n",
    "plt.show()"
   ]
  },
  {
   "cell_type": "markdown",
   "metadata": {},
   "source": [
    "## Tasks\n",
    "\n",
    "**Task 1:** Select a proposal distribution for doing importance sampling. Below is an example of a **bad** proposal distribution. Think of a better one and use it to generate samples of mu and sigma.\n",
    "\n",
    "Remember that a good proposal distribution should have a lot of probability mass at similar locations to where the true posterior distribution has lots of probability mass.\n",
    "\n",
    "* Write the code for your proposal distribution in the `good_proposal_rvs` function below.\n",
    "* Update the plot to show samples from your proposal distribution on the posterior pdf."
   ]
  },
  {
   "cell_type": "code",
   "execution_count": null,
   "metadata": {},
   "outputs": [],
   "source": [
    "def bad_proposal_rvs(size):\n",
    "    return {\n",
    "        'mu': sts.norm.rvs(loc=-5, scale=1.5, size=num_samples),\n",
    "        'sigma': sts.norm.rvs(loc=2, scale=0.5, size=num_samples)}\n",
    "\n",
    "\n",
    "def good_proposal_rvs(size):\n",
    "    return {\n",
    "        'mu': sts.norm.rvs(loc=3.6, scale=1, size=num_samples),\n",
    "        'sigma': sts.norm.rvs(loc=1.4, scale=0.5, size=num_samples)}\n",
    "\n",
    "\n",
    "# Generate samples\n",
    "num_samples = 10000\n",
    "\n",
    "# The bad proposal distribution is a product of independent normal distributions\n",
    "# over mu and sigma with means [-5, 1.5] and standard deviations [2, 0.5].\n",
    "samples = bad_proposal_rvs(num_samples)\n",
    "\n",
    "# Plot of the first 1000 samples on the level plot\n",
    "plt.figure(figsize=(10, 9))\n",
    "filled = plt.contourf(mu, sigma, posterior, 11, cmap=plt.cm.YlOrRd_r)\n",
    "lines = plt.contour(mu, sigma, posterior, 11, colors='black')\n",
    "plt.plot(samples['mu'][:1000], samples['sigma'][:1000], 'o', color='#00c0ff', alpha=0.5)\n",
    "plt.title('Unnormalized log-posterior with samples from the proposal distribution.')\n",
    "plt.xlabel('μ')\n",
    "plt.ylabel('σ')\n",
    "color_bar = plt.colorbar(filled)\n",
    "color_bar.add_lines(lines)\n",
    "plt.show()"
   ]
  },
  {
   "cell_type": "code",
   "execution_count": null,
   "metadata": {},
   "outputs": [],
   "source": [
    "# The bad proposal distribution is a product of independent normal distributions\n",
    "# over mu and sigma with means [-5, 1.5] and standard deviations [2, 0.5].\n",
    "samples = good_proposal_rvs(num_samples)\n",
    "\n",
    "# Plot of the first 1000 samples on the level plot\n",
    "plt.figure(figsize=(10, 9))\n",
    "filled = plt.contourf(mu, sigma, posterior, 11, cmap=plt.cm.YlOrRd_r)\n",
    "lines = plt.contour(mu, sigma, posterior, 11, colors='black')\n",
    "plt.plot(samples['mu'][:1000], samples['sigma'][:1000], 'o', color='#00c0ff', alpha=0.5)\n",
    "plt.title('Unnormalized log-posterior with samples from the proposal distribution.')\n",
    "plt.xlabel('μ')\n",
    "plt.ylabel('σ')\n",
    "color_bar = plt.colorbar(filled)\n",
    "color_bar.add_lines(lines)\n",
    "plt.show()"
   ]
  },
  {
   "cell_type": "markdown",
   "metadata": {},
   "source": [
    "## Task 2\n",
    "Once you have your samples, use them to approximate the following—\n",
    "\n",
    "* The mean and standard deviation of $\\mu$.\n",
    "* The mean and standard deviation of $\\sigma$.\n",
    "\n",
    "Note that you can use the same samples to calculate all four of these values. You do not have to generate new samples every time.\n",
    "\n",
    "You will have to enter the pdf of your proposal distribution below to calculate the importance weights. Note how the `bad_proposal_pdf` function below matches the `bad_proposal_rvs` function above. You you should similarly make `good_proposal_pdf` match `good_proposal_rvs`."
   ]
  },
  {
   "cell_type": "code",
   "execution_count": null,
   "metadata": {
    "collapsed": true
   },
   "outputs": [],
   "source": [
    "# TASK: Write the pdf of your proposal distribution in this function.\n",
    "\n",
    "def bad_proposal_pdf(mu, sigma):\n",
    "    return (\n",
    "        sts.norm.pdf(mu, loc=-5, scale=1.5) * \n",
    "        sts.norm.pdf(sigma, loc=2, scale=0.5))\n",
    "\n",
    "\n",
    "def good_proposal_pdf(mu, sigma):\n",
    "    return (\n",
    "        sts.norm.pdf(mu, loc=4, scale=1) * \n",
    "        sts.norm.pdf(sigma, loc=1.2, scale=2))\n",
    "\n",
    "\n",
    "# Calculate the importance weights, p(sample) / q(sample). You need the\n",
    "# importance weights to compute expected values under the target distribution.\n",
    "importance_weights = np.empty(num_samples)\n",
    "for i in range(num_samples):\n",
    "    p_value = unnormalized_posterior(samples['mu'][i], samples['sigma'][i], data)\n",
    "    q_value = good_proposal_pdf(samples['mu'][i], samples['sigma'][i])\n",
    "    importance_weights[i] = p_value / q_value"
   ]
  },
  {
   "cell_type": "code",
   "execution_count": null,
   "metadata": {},
   "outputs": [],
   "source": [
    "# TASK: Approximate the mean and standard deviation of mu and sigma using\n",
    "# mu_samples, sigma_samples, and the importance weights calculated above.\n",
    "\n",
    "mu_exp = 0\n",
    "for i in range(len(samples['mu'])):\n",
    "    mu_exp += samples['mu'][i]*importance_weights[i]\n",
    "print('The expected value of mu is:', mu_exp/np.mean(importance_weights))\n",
    "\n",
    "sigma_exp = 0\n",
    "for i in range(len(samples['sigma'])):\n",
    "    sigma_exp += samples['sigma'][i]*importance_weights[i]\n",
    "print('The expected value of sigma is:', sigma_exp/num_samples)"
   ]
  }
 ],
 "metadata": {
  "kernelspec": {
   "display_name": "Python 3",
   "language": "python",
   "name": "python3"
  },
  "language_info": {
   "codemirror_mode": {
    "name": "ipython",
    "version": 3
   },
   "file_extension": ".py",
   "mimetype": "text/x-python",
   "name": "python",
   "nbconvert_exporter": "python",
   "pygments_lexer": "ipython3",
   "version": "3.6.3"
  }
 },
 "nbformat": 4,
 "nbformat_minor": 2
}

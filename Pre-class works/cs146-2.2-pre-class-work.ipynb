{
 "cells": [
  {
   "cell_type": "markdown",
   "metadata": {},
   "source": [
    "# Call center data modeling\n",
    "\n",
    "You are advising a client on the number of call center agents they need to handle their customer support load. We start by modeling the number of phone calls we expect to come into the call center during each hour of the day.\n",
    "\n",
    "You are provided with a data set of the intervals between phone calls arriving during one day. Each value is a time in minutes indicating the amount of time that passed between receiving two consecutive phone calls.\n",
    "\n",
    "## Loading the data"
   ]
  },
  {
   "cell_type": "code",
   "execution_count": 51,
   "metadata": {
    "collapsed": true
   },
   "outputs": [],
   "source": [
    "import numpy as np\n",
    "import scipy as sp\n",
    "import scipy.stats as sts\n",
    "import matplotlib.pyplot as plt\n",
    "import random\n",
    "%matplotlib inline"
   ]
  },
  {
   "cell_type": "code",
   "execution_count": 52,
   "metadata": {},
   "outputs": [
    {
     "name": "stdout",
     "output_type": "stream",
     "text": [
      "Size of data set: 5856\n",
      "First 3 values in data set: [30.   3.4  3.2]\n",
      "Sum of data set: 1441.6838153800093\n"
     ]
    }
   ],
   "source": [
    "# Load the data set containing durations between calls arriving at the call\n",
    "# center during 1 day. All values are in minutes.\n",
    "waiting_times_day = np.loadtxt('call_center.csv')\n",
    "\n",
    "# Display some basic information about the data set.\n",
    "print('Size of data set:', len(waiting_times_day))\n",
    "print('First 3 values in data set:', waiting_times_day[:3])\n",
    "print('Sum of data set:', sum(waiting_times_day))"
   ]
  },
  {
   "cell_type": "markdown",
   "metadata": {},
   "source": [
    "Since the values are intervals between calls measured in minutes, this means\n",
    "\n",
    "* we assume the first call happened at 00:00 (midnight),\n",
    "* the second call happened at about 00:30 (30 minutes after midnight),\n",
    "* the third call happened at about 00:33 (30 + 3.4 minutes),\n",
    "* the fourth call happened at about 00:37, etc.\n",
    "\n",
    "When we sum the values, we get about 1440 minutes (1 day)."
   ]
  },
  {
   "cell_type": "markdown",
   "metadata": {},
   "source": [
    "You are told that the number of calls arriving varies quite a lot, depending on which hour of the day it is. The smallest number of calls usually occur around 3am or 4am. Most calls usually come in between 11am and 1pm.\n",
    "\n",
    "## Data pre-processing\n",
    "Since we expect different call rates during different hours, we split the data set into 24 separate series — one for each hour of the day."
   ]
  },
  {
   "cell_type": "code",
   "execution_count": 53,
   "metadata": {},
   "outputs": [
    {
     "name": "stdout",
     "output_type": "stream",
     "text": [
      "00:00-01:00 - 5 calls\n",
      "01:00-02:00 - 4 calls\n",
      "02:00-03:00 - 6 calls\n",
      "03:00-04:00 - 8 calls\n",
      "04:00-05:00 - 26 calls\n",
      "05:00-06:00 - 53 calls\n",
      "06:00-07:00 - 93 calls\n",
      "07:00-08:00 - 173 calls\n",
      "08:00-09:00 - 254 calls\n",
      "09:00-10:00 - 345 calls\n",
      "10:00-11:00 - 496 calls\n",
      "11:00-12:00 - 924 calls\n",
      "12:00-13:00 - 858 calls\n",
      "13:00-14:00 - 382 calls\n",
      "14:00-15:00 - 185 calls\n",
      "15:00-16:00 - 207 calls\n",
      "16:00-17:00 - 263 calls\n",
      "17:00-18:00 - 419 calls\n",
      "18:00-19:00 - 531 calls\n",
      "19:00-20:00 - 400 calls\n",
      "20:00-21:00 - 137 calls\n",
      "21:00-22:00 - 51 calls\n",
      "22:00-23:00 - 20 calls\n",
      "23:00-24:00 - 16 calls\n"
     ]
    }
   ],
   "source": [
    "# Make 24 empty lists, one per hour.\n",
    "waiting_times_per_hour = [[] for _ in range(24)]\n",
    "\n",
    "# Split the data into 24 separate series, one for each hour of the day.\n",
    "current_time = 0\n",
    "for t in waiting_times_day:\n",
    "    current_hour = int(current_time // 60)\n",
    "    current_time += t\n",
    "    waiting_times_per_hour[current_hour].append(t)\n",
    "\n",
    "for hour, calls_in_hour in enumerate(waiting_times_per_hour):\n",
    "    print(f'{hour:02}:00-{hour + 1:02}:00 - {len(calls_in_hour)} calls')"
   ]
  },
  {
   "cell_type": "markdown",
   "metadata": {},
   "source": [
    "## Task 1: Plot the number of calls per hour\n",
    "Use Matplotlib to visualize the number of calls that arrive during each hour of the day, stored in the variable `waiting_times_per_hour`. The call numbers are shown in the output above. You should find an appropriate way to visualize it."
   ]
  },
  {
   "cell_type": "code",
   "execution_count": 62,
   "metadata": {},
   "outputs": [
    {
     "name": "stdout",
     "output_type": "stream",
     "text": [
      "Size of data set: 5856\n",
      "First 3 values in data set: [30.   3.4  3.2]\n",
      "Sum of data set: 1441.6838153800093\n"
     ]
    },
    {
     "data": {
      "image/png": "[encoded data removed]",
      "text/plain": [
       "<Figure size 576x432 with 1 Axes>"
      ]
     },
     "metadata": {},
     "output_type": "display_data"
    }
   ],
   "source": [
    "# Load the data set containing durations between calls arriving at the call\n",
    "# center during 1 day. All values are in minutes.\n",
    "waiting_times_day = np.loadtxt('https://course-resources.minerva.kgi.edu/uploaded_files/mke/00124343-8397/call-center.csv')\n",
    "\n",
    "# Display some basic information about the data set.\n",
    "print('Size of data set:', len(waiting_times_day))\n",
    "print('First 3 values in data set:', waiting_times_day[:3])\n",
    "print('Sum of data set:', sum(waiting_times_day))\n",
    "\n",
    "# Make 24 empty lists, one per hour.\n",
    "waiting_times_per_hour = [[] for _ in range(24)]\n",
    "\n",
    "# Split the data into 24 separate series, one for each hour of the day.\n",
    "current_time = 0\n",
    "for t in waiting_times_day:\n",
    "    current_hour = int(current_time // 60)\n",
    "    current_time += t\n",
    "    waiting_times_per_hour[current_hour].append(t)\n",
    "\n",
    "# Plot the number of calls per hour using a bar chart\n",
    "plt.figure(figsize=(8, 6))\n",
    "plt.bar(range(24), [len(w) for w in waiting_times_per_hour])\n",
    "plt.xlabel('Hour of the day')\n",
    "plt.ylabel('Number of calls')\n",
    "plt.title('Number of calls per hour in the data set')\n",
    "plt.show()"
   ]
  },
  {
   "cell_type": "markdown",
   "metadata": {},
   "source": [
    "## Task 2: Plot a histogram of the durations for one hour\n",
    "Take the data for the 9th hour (so between 9am and 10am) and plot a histogram showing the distribution over waiting times between calls during that hour."
   ]
  },
  {
   "cell_type": "code",
   "execution_count": 67,
   "metadata": {},
   "outputs": [
    {
     "data": {
      "image/png": "[encoded data removed]",
      "text/plain": [
       "<Figure size 576x432 with 1 Axes>"
      ]
     },
     "metadata": {},
     "output_type": "display_data"
    }
   ],
   "source": [
    "# Plot histogram of waiting times for one hour\n",
    "hour_index = 9\n",
    "waiting_times_hour = waiting_times_per_hour[hour_index]\n",
    "\n",
    "plt.figure(figsize=(8, 6))\n",
    "plt.hist(waiting_times_hour, bins=20)\n",
    "plt.xlabel('Time between calls [minutes]')\n",
    "plt.ylabel('Count')\n",
    "plt.title(f'Histogram of waiting times for hour {hour_index}')\n",
    "plt.show()"
   ]
  },
  {
   "cell_type": "markdown",
   "metadata": {
    "collapsed": true
   },
   "source": [
    "## Task 3: Guess the distribution\n",
    "What type of distribution best represents the data in your histogram?\n",
    "\n",
    "* Identify a type of distribution. **In class you will use this distribution as your likelihood function in a Bayesian inference problem.**\n",
    "* Guess what the parameters of the distribution are. (This is just a guess for now. In class we will infer the values of the parameters.)\n",
    "* Plot the pdf of your best guess on top of your histogram, to see if they match.\n",
    "* **Important:** You have to normalize your histogram so that it will have the same vertical scale as the plot of the pdf. You can normalize a histogram by using the argument `density=True` in the `hist` function."
   ]
  },
  {
   "cell_type": "code",
   "execution_count": 68,
   "metadata": {},
   "outputs": [
    {
     "data": {
      "image/png": "[encoded data removed]",
      "text/plain": [
       "<Figure size 576x432 with 1 Axes>"
      ]
     },
     "metadata": {},
     "output_type": "display_data"
    }
   ],
   "source": [
    "# Exponential distribution with maximum likelihood fit to the data\n",
    "lambda_ = 1 / np.mean(waiting_times_hour)\n",
    "distribution = sts.expon(scale=1/lambda_)\n",
    "\n",
    "plt.figure(figsize=(8, 6))\n",
    "plt.hist(waiting_times_hour, bins=20, density=True, color='#c0c0c0')\n",
    "x = np.linspace(0, max(waiting_times_hour), 200)\n",
    "y = distribution.pdf(x)\n",
    "plt.plot(x, y)\n",
    "plt.xlabel('Time between calls [minutes]')\n",
    "plt.ylabel('Density')\n",
    "plt.title(f'Fit of maximum likelihood estimate to the data for hour {hour_index}')\n",
    "plt.show()"
   ]
  },
  {
   "cell_type": "markdown",
   "metadata": {},
   "source": [
    "## Task 1: Fit an exponential distribution to the data for hour 9\n",
    "\n",
    "1. We do Bayesian inference on this problem\n",
    "2. Use the **exponential distribution** as your **likelihood function**. You need to fill in the `likelihood` function below.\n",
    "3. Use a **gamma distribution** with parameters $\\alpha=1$ and $\\beta=0.25$ as your **prior**. You need to fill in the `prior` function below.\n",
    "4. **Compute the posterior distribution over $\\lambda$.**\n",
    "5. **Plot the prior and posterior** distributions on the same axes."
   ]
  },
  {
   "cell_type": "code",
   "execution_count": 71,
   "metadata": {},
   "outputs": [
    {
     "data": {
      "image/png": "[encoded data removed]",
      "text/plain": [
       "<Figure size 576x432 with 1 Axes>"
      ]
     },
     "metadata": {},
     "output_type": "display_data"
    }
   ],
   "source": [
    "# DEFINE THE PRIOR DISTRIBUTION\n",
    "\n",
    "# This function takes 1 input, namely the parameter value (λ) at which to\n",
    "# compute the prior probability density. You need to evaluate the distribution\n",
    "# Gamma(λ | α, β).\n",
    "\n",
    "def prior(lambda_):\n",
    "    return sts.gamma(1, scale=1/0.25).pdf(lambda_)\n",
    "\n",
    "# PLOT THE PRIOR\n",
    "lambdas = np.linspace(0, 10, 501)[1:]\n",
    "plt.figure(figsize=(8, 6))\n",
    "plt.plot(lambdas, prior(lambdas), color='black', linestyle=':', label='prior')\n",
    "plt.xlabel('λ [calls per minute]')\n",
    "plt.ylabel('probability density')\n",
    "plt.title(f'Prior distribution')\n",
    "plt.legend()\n",
    "plt.show()"
   ]
  },
  {
   "cell_type": "code",
   "execution_count": 72,
   "metadata": {},
   "outputs": [
    {
     "ename": "TypeError",
     "evalue": "unsupported operand type(s) for -: 'list' and 'int'",
     "output_type": "error",
     "traceback": [
      "\u001b[0;31m---------------------------------------------------------------------------\u001b[0m",
      "\u001b[0;31mTypeError\u001b[0m                                 Traceback (most recent call last)",
      "\u001b[0;32m<ipython-input-72-d7537ab2cea8>\u001b[0m in \u001b[0;36m<module>\u001b[0;34m()\u001b[0m\n\u001b[1;32m     31\u001b[0m     \u001b[0;32mreturn\u001b[0m \u001b[0mposterior\u001b[0m\u001b[0;34m\u001b[0m\u001b[0m\n\u001b[1;32m     32\u001b[0m \u001b[0;34m\u001b[0m\u001b[0m\n\u001b[0;32m---> 33\u001b[0;31m \u001b[0mposterior\u001b[0m \u001b[0;34m=\u001b[0m \u001b[0mcompute_posterior\u001b[0m\u001b[0;34m(\u001b[0m\u001b[0mlambdas\u001b[0m\u001b[0;34m,\u001b[0m \u001b[0mprior\u001b[0m\u001b[0;34m,\u001b[0m \u001b[0mlikelihood\u001b[0m\u001b[0;34m,\u001b[0m \u001b[0mwaiting_times_per_hour\u001b[0m\u001b[0;34m)\u001b[0m\u001b[0;34m\u001b[0m\u001b[0m\n\u001b[0m\u001b[1;32m     34\u001b[0m \u001b[0;34m\u001b[0m\u001b[0m\n\u001b[1;32m     35\u001b[0m \u001b[0;31m# YOU NEED TO PLOT THE PRIOR AND POSTERIOR ON THE SAME AXES.\u001b[0m\u001b[0;34m\u001b[0m\u001b[0;34m\u001b[0m\u001b[0m\n",
      "\u001b[0;32m<ipython-input-72-d7537ab2cea8>\u001b[0m in \u001b[0;36mcompute_posterior\u001b[0;34m(parameter_values, prior, likelihood, data)\u001b[0m\n\u001b[1;32m     23\u001b[0m     log_likelihood = np.array([\n\u001b[1;32m     24\u001b[0m         \u001b[0mnp\u001b[0m\u001b[0;34m.\u001b[0m\u001b[0msum\u001b[0m\u001b[0;34m(\u001b[0m\u001b[0mnp\u001b[0m\u001b[0;34m.\u001b[0m\u001b[0mlog\u001b[0m\u001b[0;34m(\u001b[0m\u001b[0mlikelihood\u001b[0m\u001b[0;34m(\u001b[0m\u001b[0mparam\u001b[0m\u001b[0;34m,\u001b[0m \u001b[0mdata\u001b[0m\u001b[0;34m)\u001b[0m\u001b[0;34m)\u001b[0m\u001b[0;34m)\u001b[0m\u001b[0;34m\u001b[0m\u001b[0m\n\u001b[0;32m---> 25\u001b[0;31m         for param in parameter_values])\n\u001b[0m\u001b[1;32m     26\u001b[0m     \u001b[0munnormalized_log_posterior\u001b[0m \u001b[0;34m=\u001b[0m \u001b[0mlog_prior\u001b[0m \u001b[0;34m+\u001b[0m \u001b[0mlog_likelihood\u001b[0m\u001b[0;34m\u001b[0m\u001b[0m\n\u001b[1;32m     27\u001b[0m     \u001b[0munnormalized_log_posterior\u001b[0m \u001b[0;34m-=\u001b[0m \u001b[0mmax\u001b[0m\u001b[0;34m(\u001b[0m\u001b[0munnormalized_log_posterior\u001b[0m\u001b[0;34m)\u001b[0m\u001b[0;34m\u001b[0m\u001b[0m\n",
      "\u001b[0;32m<ipython-input-72-d7537ab2cea8>\u001b[0m in \u001b[0;36m<listcomp>\u001b[0;34m(.0)\u001b[0m\n\u001b[1;32m     23\u001b[0m     log_likelihood = np.array([\n\u001b[1;32m     24\u001b[0m         \u001b[0mnp\u001b[0m\u001b[0;34m.\u001b[0m\u001b[0msum\u001b[0m\u001b[0;34m(\u001b[0m\u001b[0mnp\u001b[0m\u001b[0;34m.\u001b[0m\u001b[0mlog\u001b[0m\u001b[0;34m(\u001b[0m\u001b[0mlikelihood\u001b[0m\u001b[0;34m(\u001b[0m\u001b[0mparam\u001b[0m\u001b[0;34m,\u001b[0m \u001b[0mdata\u001b[0m\u001b[0;34m)\u001b[0m\u001b[0;34m)\u001b[0m\u001b[0;34m)\u001b[0m\u001b[0;34m\u001b[0m\u001b[0m\n\u001b[0;32m---> 25\u001b[0;31m         for param in parameter_values])\n\u001b[0m\u001b[1;32m     26\u001b[0m     \u001b[0munnormalized_log_posterior\u001b[0m \u001b[0;34m=\u001b[0m \u001b[0mlog_prior\u001b[0m \u001b[0;34m+\u001b[0m \u001b[0mlog_likelihood\u001b[0m\u001b[0;34m\u001b[0m\u001b[0m\n\u001b[1;32m     27\u001b[0m     \u001b[0munnormalized_log_posterior\u001b[0m \u001b[0;34m-=\u001b[0m \u001b[0mmax\u001b[0m\u001b[0;34m(\u001b[0m\u001b[0munnormalized_log_posterior\u001b[0m\u001b[0;34m)\u001b[0m\u001b[0;34m\u001b[0m\u001b[0m\n",
      "\u001b[0;32m<ipython-input-72-d7537ab2cea8>\u001b[0m in \u001b[0;36mlikelihood\u001b[0;34m(lambda_, datum)\u001b[0m\n\u001b[1;32m      6\u001b[0m \u001b[0;34m\u001b[0m\u001b[0m\n\u001b[1;32m      7\u001b[0m \u001b[0;32mdef\u001b[0m \u001b[0mlikelihood\u001b[0m\u001b[0;34m(\u001b[0m\u001b[0mlambda_\u001b[0m\u001b[0;34m,\u001b[0m \u001b[0mdatum\u001b[0m\u001b[0;34m)\u001b[0m\u001b[0;34m:\u001b[0m\u001b[0;34m\u001b[0m\u001b[0m\n\u001b[0;32m----> 8\u001b[0;31m     \u001b[0;32mreturn\u001b[0m \u001b[0msts\u001b[0m\u001b[0;34m.\u001b[0m\u001b[0mexpon\u001b[0m\u001b[0;34m(\u001b[0m\u001b[0mscale\u001b[0m\u001b[0;34m=\u001b[0m\u001b[0;36m1\u001b[0m\u001b[0;34m/\u001b[0m\u001b[0mlambda_\u001b[0m\u001b[0;34m)\u001b[0m\u001b[0;34m.\u001b[0m\u001b[0mpdf\u001b[0m\u001b[0;34m(\u001b[0m\u001b[0mdatum\u001b[0m\u001b[0;34m)\u001b[0m\u001b[0;34m\u001b[0m\u001b[0m\n\u001b[0m\u001b[1;32m      9\u001b[0m \u001b[0;34m\u001b[0m\u001b[0m\n\u001b[1;32m     10\u001b[0m \u001b[0;31m# THE POSTERIOR DISTRIBUTION\u001b[0m\u001b[0;34m\u001b[0m\u001b[0;34m\u001b[0m\u001b[0m\n",
      "\u001b[0;32m~/anaconda3/lib/python3.6/site-packages/scipy/stats/_distn_infrastructure.py\u001b[0m in \u001b[0;36mpdf\u001b[0;34m(self, x)\u001b[0m\n\u001b[1;32m    448\u001b[0m \u001b[0;34m\u001b[0m\u001b[0m\n\u001b[1;32m    449\u001b[0m     \u001b[0;32mdef\u001b[0m \u001b[0mpdf\u001b[0m\u001b[0;34m(\u001b[0m\u001b[0mself\u001b[0m\u001b[0;34m,\u001b[0m \u001b[0mx\u001b[0m\u001b[0;34m)\u001b[0m\u001b[0;34m:\u001b[0m   \u001b[0;31m# raises AttributeError in frozen discrete distribution\u001b[0m\u001b[0;34m\u001b[0m\u001b[0m\n\u001b[0;32m--> 450\u001b[0;31m         \u001b[0;32mreturn\u001b[0m \u001b[0mself\u001b[0m\u001b[0;34m.\u001b[0m\u001b[0mdist\u001b[0m\u001b[0;34m.\u001b[0m\u001b[0mpdf\u001b[0m\u001b[0;34m(\u001b[0m\u001b[0mx\u001b[0m\u001b[0;34m,\u001b[0m \u001b[0;34m*\u001b[0m\u001b[0mself\u001b[0m\u001b[0;34m.\u001b[0m\u001b[0margs\u001b[0m\u001b[0;34m,\u001b[0m \u001b[0;34m**\u001b[0m\u001b[0mself\u001b[0m\u001b[0;34m.\u001b[0m\u001b[0mkwds\u001b[0m\u001b[0;34m)\u001b[0m\u001b[0;34m\u001b[0m\u001b[0m\n\u001b[0m\u001b[1;32m    451\u001b[0m \u001b[0;34m\u001b[0m\u001b[0m\n\u001b[1;32m    452\u001b[0m     \u001b[0;32mdef\u001b[0m \u001b[0mlogpdf\u001b[0m\u001b[0;34m(\u001b[0m\u001b[0mself\u001b[0m\u001b[0;34m,\u001b[0m \u001b[0mx\u001b[0m\u001b[0;34m)\u001b[0m\u001b[0;34m:\u001b[0m\u001b[0;34m\u001b[0m\u001b[0m\n",
      "\u001b[0;32m~/anaconda3/lib/python3.6/site-packages/scipy/stats/_distn_infrastructure.py\u001b[0m in \u001b[0;36mpdf\u001b[0;34m(self, x, *args, **kwds)\u001b[0m\n\u001b[1;32m   1650\u001b[0m         \u001b[0margs\u001b[0m \u001b[0;34m=\u001b[0m \u001b[0mtuple\u001b[0m\u001b[0;34m(\u001b[0m\u001b[0mmap\u001b[0m\u001b[0;34m(\u001b[0m\u001b[0masarray\u001b[0m\u001b[0;34m,\u001b[0m \u001b[0margs\u001b[0m\u001b[0;34m)\u001b[0m\u001b[0;34m)\u001b[0m\u001b[0;34m\u001b[0m\u001b[0m\n\u001b[1;32m   1651\u001b[0m         \u001b[0mdtyp\u001b[0m \u001b[0;34m=\u001b[0m \u001b[0mnp\u001b[0m\u001b[0;34m.\u001b[0m\u001b[0mfind_common_type\u001b[0m\u001b[0;34m(\u001b[0m\u001b[0;34m[\u001b[0m\u001b[0mx\u001b[0m\u001b[0;34m.\u001b[0m\u001b[0mdtype\u001b[0m\u001b[0;34m,\u001b[0m \u001b[0mnp\u001b[0m\u001b[0;34m.\u001b[0m\u001b[0mfloat64\u001b[0m\u001b[0;34m]\u001b[0m\u001b[0;34m,\u001b[0m \u001b[0;34m[\u001b[0m\u001b[0;34m]\u001b[0m\u001b[0;34m)\u001b[0m\u001b[0;34m\u001b[0m\u001b[0m\n\u001b[0;32m-> 1652\u001b[0;31m         \u001b[0mx\u001b[0m \u001b[0;34m=\u001b[0m \u001b[0mnp\u001b[0m\u001b[0;34m.\u001b[0m\u001b[0masarray\u001b[0m\u001b[0;34m(\u001b[0m\u001b[0;34m(\u001b[0m\u001b[0mx\u001b[0m \u001b[0;34m-\u001b[0m \u001b[0mloc\u001b[0m\u001b[0;34m)\u001b[0m\u001b[0;34m/\u001b[0m\u001b[0mscale\u001b[0m\u001b[0;34m,\u001b[0m \u001b[0mdtype\u001b[0m\u001b[0;34m=\u001b[0m\u001b[0mdtyp\u001b[0m\u001b[0;34m)\u001b[0m\u001b[0;34m\u001b[0m\u001b[0m\n\u001b[0m\u001b[1;32m   1653\u001b[0m         \u001b[0mcond0\u001b[0m \u001b[0;34m=\u001b[0m \u001b[0mself\u001b[0m\u001b[0;34m.\u001b[0m\u001b[0m_argcheck\u001b[0m\u001b[0;34m(\u001b[0m\u001b[0;34m*\u001b[0m\u001b[0margs\u001b[0m\u001b[0;34m)\u001b[0m \u001b[0;34m&\u001b[0m \u001b[0;34m(\u001b[0m\u001b[0mscale\u001b[0m \u001b[0;34m>\u001b[0m \u001b[0;36m0\u001b[0m\u001b[0;34m)\u001b[0m\u001b[0;34m\u001b[0m\u001b[0m\n\u001b[1;32m   1654\u001b[0m         \u001b[0mcond1\u001b[0m \u001b[0;34m=\u001b[0m \u001b[0mself\u001b[0m\u001b[0;34m.\u001b[0m\u001b[0m_support_mask\u001b[0m\u001b[0;34m(\u001b[0m\u001b[0mx\u001b[0m\u001b[0;34m)\u001b[0m \u001b[0;34m&\u001b[0m \u001b[0;34m(\u001b[0m\u001b[0mscale\u001b[0m \u001b[0;34m>\u001b[0m \u001b[0;36m0\u001b[0m\u001b[0;34m)\u001b[0m\u001b[0;34m\u001b[0m\u001b[0m\n",
      "\u001b[0;31mTypeError\u001b[0m: unsupported operand type(s) for -: 'list' and 'int'"
     ]
    }
   ],
   "source": [
    "# DEFINE THE LIKELIHOOD FUNCTION\n",
    "#\n",
    "# This function takes 2 inputs, namely the parameter (λ) value at which to\n",
    "# compute the likelihood and a value from the data set. You need to evaluate\n",
    "# the exponential distribution of the datum given the parameter value.\n",
    "\n",
    "def likelihood(lambda_, datum):\n",
    "    return sts.expon(scale=1/lambda_).pdf(datum)\n",
    "\n",
    "# THE POSTERIOR DISTRIBUTION\n",
    "#\n",
    "# The function below is provided to help make computing the posterior easier. It\n",
    "# follows the same pattern as in the previous class, where we multiple the prior\n",
    "# and the likelihood evaluated at various values of the parameter (λ).\n",
    "#\n",
    "# You will see the function uses the logarithms of various distributions. This\n",
    "# is for numerical reasons. When you multiply lots of likelihood values, the\n",
    "# result can become very large or very small, causing numerical overflow or\n",
    "# underflow in Python. Taking logarithms avoids this problem.\n",
    "\n",
    "def compute_posterior(parameter_values, prior, likelihood, data):\n",
    "    log_prior = np.log(prior(parameter_values))\n",
    "    log_likelihood = np.array([\n",
    "        np.sum(np.log(likelihood(param, data)))\n",
    "        for param in parameter_values])\n",
    "    unnormalized_log_posterior = log_prior + log_likelihood\n",
    "    unnormalized_log_posterior -= max(unnormalized_log_posterior)\n",
    "    unnormalized_posterior = np.exp(unnormalized_log_posterior)\n",
    "    area = sp.integrate.trapz(unnormalized_posterior, parameter_values)\n",
    "    posterior = unnormalized_posterior / area\n",
    "    return posterior\n",
    "\n",
    "posterior = compute_posterior(lambdas, prior, likelihood, waiting_times_per_hour)\n",
    "\n",
    "# YOU NEED TO PLOT THE PRIOR AND POSTERIOR ON THE SAME AXES.\n",
    "plt.figure(figsize=(8, 6))\n",
    "plt.plot(lambdas, prior(lambdas), color='black', linestyle=':', label='prior')\n",
    "plt.plot(lambdas, posterior, label='posterior')\n",
    "plt.xlabel('λ [calls per minute]')\n",
    "plt.ylabel('probability density')\n",
    "plt.title(f'Inference results for hour {hour_index}')\n",
    "plt.legend()\n",
    "plt.show()# DEFINE THE LIKELIHOOD FUNCTION\n",
    "#\n",
    "# This function takes 2 inputs, namely the parameter (λ) value at which to\n",
    "# compute the likelihood and a value from the data set. You need to evaluate\n",
    "# the exponential distribution of the datum given the parameter value.\n",
    "\n",
    "def likelihood(lambda_, datum):\n",
    "    return sts.expon(scale=1/lambda_).pdf(datum)\n",
    "\n",
    "# THE POSTERIOR DISTRIBUTION\n",
    "#\n",
    "# The function below is provided to help make computing the posterior easier. It\n",
    "# follows the same pattern as in the previous class, where we multiple the prior\n",
    "# and the likelihood evaluated at various values of the parameter (λ).\n",
    "#\n",
    "# You will see the function uses the logarithms of various distributions. This\n",
    "# is for numerical reasons. When you multiply lots of likelihood values, the\n",
    "# result can become very large or very small, causing numerical overflow or\n",
    "# underflow in Python. Taking logarithms avoids this problem.\n",
    "\n",
    "def compute_posterior(parameter_values, prior, likelihood, data):\n",
    "    log_prior = np.log(prior(parameter_values))\n",
    "    log_likelihood = np.array([\n",
    "        np.sum(np.log(likelihood(param, data)))\n",
    "        for param in parameter_values])\n",
    "    unnormalized_log_posterior = log_prior + log_likelihood\n",
    "    unnormalized_log_posterior -= max(unnormalized_log_posterior)\n",
    "    unnormalized_posterior = np.exp(unnormalized_log_posterior)\n",
    "    area = sp.integrate.trapz(unnormalized_posterior, parameter_values)\n",
    "    posterior = unnormalized_posterior / area\n",
    "    return posterior\n",
    "\n",
    "posterior = compute_posterior(lambdas, prior, likelihood, waiting_times_hour)\n",
    "\n",
    "# YOU NEED TO PLOT THE PRIOR AND POSTERIOR ON THE SAME AXES.\n",
    "plt.figure(figsize=(8, 6))\n",
    "plt.plot(lambdas, prior(lambdas), color='black', linestyle=':', label='prior')\n",
    "plt.plot(lambdas, posterior, label='posterior')\n",
    "plt.xlabel('λ [calls per minute]')\n",
    "plt.ylabel('probability density')\n",
    "plt.title(f'Inference results for hour {hour_index}')\n",
    "plt.legend()\n",
    "plt.show()"
   ]
  },
  {
   "cell_type": "markdown",
   "metadata": {},
   "source": [
    "## Task 2: Summarize your results\n",
    "\n",
    "1. **Compute a 98% confidence interval** over the posterior $\\lambda$. Use the code provided below to help you.\n",
    "2. **Discuss** the width of the confidence interval. How certain are we about the call rate during this hour of the day?"
   ]
  },
  {
   "cell_type": "code",
   "execution_count": 59,
   "metadata": {},
   "outputs": [
    {
     "ename": "NameError",
     "evalue": "name 'posterior' is not defined",
     "output_type": "error",
     "traceback": [
      "\u001b[0;31m---------------------------------------------------------------------------\u001b[0m",
      "\u001b[0;31mNameError\u001b[0m                                 Traceback (most recent call last)",
      "\u001b[0;32m<ipython-input-59-bbb12ffa2686>\u001b[0m in \u001b[0;36m<module>\u001b[0;34m()\u001b[0m\n\u001b[1;32m     23\u001b[0m     \u001b[0;32mreturn\u001b[0m \u001b[0mlambdas\u001b[0m\u001b[0;34m[\u001b[0m\u001b[0mpercentile_index\u001b[0m\u001b[0;34m]\u001b[0m\u001b[0;34m\u001b[0m\u001b[0m\n\u001b[1;32m     24\u001b[0m \u001b[0;34m\u001b[0m\u001b[0m\n\u001b[0;32m---> 25\u001b[0;31m \u001b[0mpercentiles\u001b[0m \u001b[0;34m=\u001b[0m \u001b[0;34m[\u001b[0m\u001b[0mcompute_percentile\u001b[0m\u001b[0;34m(\u001b[0m\u001b[0mlambdas\u001b[0m\u001b[0;34m,\u001b[0m \u001b[0mposterior\u001b[0m\u001b[0;34m,\u001b[0m \u001b[0mp\u001b[0m\u001b[0;34m)\u001b[0m \u001b[0;32mfor\u001b[0m \u001b[0mp\u001b[0m \u001b[0;32min\u001b[0m \u001b[0;34m[\u001b[0m\u001b[0;36m0.01\u001b[0m\u001b[0;34m,\u001b[0m \u001b[0;36m0.99\u001b[0m\u001b[0;34m]\u001b[0m\u001b[0;34m]\u001b[0m\u001b[0;34m\u001b[0m\u001b[0m\n\u001b[0m\u001b[1;32m     26\u001b[0m \u001b[0mplt\u001b[0m\u001b[0;34m.\u001b[0m\u001b[0mfigure\u001b[0m\u001b[0;34m(\u001b[0m\u001b[0mfigsize\u001b[0m\u001b[0;34m=\u001b[0m\u001b[0;34m(\u001b[0m\u001b[0;36m8\u001b[0m\u001b[0;34m,\u001b[0m \u001b[0;36m6\u001b[0m\u001b[0;34m)\u001b[0m\u001b[0;34m)\u001b[0m\u001b[0;34m\u001b[0m\u001b[0m\n\u001b[1;32m     27\u001b[0m \u001b[0mplt\u001b[0m\u001b[0;34m.\u001b[0m\u001b[0mplot\u001b[0m\u001b[0;34m(\u001b[0m\u001b[0mlambdas\u001b[0m\u001b[0;34m,\u001b[0m \u001b[0mposterior\u001b[0m\u001b[0;34m,\u001b[0m \u001b[0mlabel\u001b[0m\u001b[0;34m=\u001b[0m\u001b[0;34m'posterior'\u001b[0m\u001b[0;34m)\u001b[0m\u001b[0;34m\u001b[0m\u001b[0m\n",
      "\u001b[0;32m<ipython-input-59-bbb12ffa2686>\u001b[0m in \u001b[0;36m<listcomp>\u001b[0;34m(.0)\u001b[0m\n\u001b[1;32m     23\u001b[0m     \u001b[0;32mreturn\u001b[0m \u001b[0mlambdas\u001b[0m\u001b[0;34m[\u001b[0m\u001b[0mpercentile_index\u001b[0m\u001b[0;34m]\u001b[0m\u001b[0;34m\u001b[0m\u001b[0m\n\u001b[1;32m     24\u001b[0m \u001b[0;34m\u001b[0m\u001b[0m\n\u001b[0;32m---> 25\u001b[0;31m \u001b[0mpercentiles\u001b[0m \u001b[0;34m=\u001b[0m \u001b[0;34m[\u001b[0m\u001b[0mcompute_percentile\u001b[0m\u001b[0;34m(\u001b[0m\u001b[0mlambdas\u001b[0m\u001b[0;34m,\u001b[0m \u001b[0mposterior\u001b[0m\u001b[0;34m,\u001b[0m \u001b[0mp\u001b[0m\u001b[0;34m)\u001b[0m \u001b[0;32mfor\u001b[0m \u001b[0mp\u001b[0m \u001b[0;32min\u001b[0m \u001b[0;34m[\u001b[0m\u001b[0;36m0.01\u001b[0m\u001b[0;34m,\u001b[0m \u001b[0;36m0.99\u001b[0m\u001b[0;34m]\u001b[0m\u001b[0;34m]\u001b[0m\u001b[0;34m\u001b[0m\u001b[0m\n\u001b[0m\u001b[1;32m     26\u001b[0m \u001b[0mplt\u001b[0m\u001b[0;34m.\u001b[0m\u001b[0mfigure\u001b[0m\u001b[0;34m(\u001b[0m\u001b[0mfigsize\u001b[0m\u001b[0;34m=\u001b[0m\u001b[0;34m(\u001b[0m\u001b[0;36m8\u001b[0m\u001b[0;34m,\u001b[0m \u001b[0;36m6\u001b[0m\u001b[0;34m)\u001b[0m\u001b[0;34m)\u001b[0m\u001b[0;34m\u001b[0m\u001b[0m\n\u001b[1;32m     27\u001b[0m \u001b[0mplt\u001b[0m\u001b[0;34m.\u001b[0m\u001b[0mplot\u001b[0m\u001b[0;34m(\u001b[0m\u001b[0mlambdas\u001b[0m\u001b[0;34m,\u001b[0m \u001b[0mposterior\u001b[0m\u001b[0;34m,\u001b[0m \u001b[0mlabel\u001b[0m\u001b[0;34m=\u001b[0m\u001b[0;34m'posterior'\u001b[0m\u001b[0;34m)\u001b[0m\u001b[0;34m\u001b[0m\u001b[0m\n",
      "\u001b[0;31mNameError\u001b[0m: name 'posterior' is not defined"
     ]
    }
   ],
   "source": [
    "def compute_percentile(parameter_values, distribution_values, percentile):\n",
    "    '''\n",
    "    Compute the parameter value at a particular percentile of the given\n",
    "    probability distribution values. This function uses the cumulative trapezoid\n",
    "    integrator in SciPy.\n",
    "\n",
    "    Inputs:\n",
    "\n",
    "        parameter_values (array of float) This is the list of parameter values\n",
    "          at which the probability distribution has been evaluated.\n",
    "\n",
    "        distribution_values (array of float) This is the list of values of the\n",
    "          probability density function evaluated at the parameter values above.\n",
    "\n",
    "        percentile (float) This is the value between 0 and 1 of the percentile\n",
    "          to compute.\n",
    "\n",
    "    Returns: (float) The parameter value at the given percentile.\n",
    "    '''\n",
    "    cumulative_distribution = sp.integrate.cumtrapz(\n",
    "        distribution_values, parameter_values)\n",
    "    percentile_index = np.searchsorted(cumulative_distribution, percentile)\n",
    "    return lambdas[percentile_index]\n",
    "\n",
    "percentiles = [compute_percentile(lambdas, posterior, p) for p in [0.01, 0.99]]\n",
    "plt.figure(figsize=(8, 6))\n",
    "plt.plot(lambdas, posterior, label='posterior')\n",
    "plt.axvline(percentiles[0], color='red', linestyle=':', label='98% interval')\n",
    "plt.axvline(percentiles[1], color='red', linestyle=':')\n",
    "plt.xlabel('λ [calls per minute]')\n",
    "plt.ylabel('probability density')\n",
    "plt.title(f'Inference results for hour {hour_index}')\n",
    "plt.legend()\n",
    "plt.show()\n",
    "\n",
    "print('Posterior 98% interval:', percentiles, 'calls per minute')"
   ]
  },
  {
   "cell_type": "markdown",
   "metadata": {},
   "source": [
    "## Task 3: Check your results\n",
    "\n",
    "1. Use the posterior mean of $\\lambda$ (the mean is a single value and not a distribution) to **plot an exponential distribution on top of the data histogram** for hour 9.\n",
    "2. **Discuss:** How good is the fit to the data?"
   ]
  },
  {
   "cell_type": "code",
   "execution_count": 60,
   "metadata": {},
   "outputs": [
    {
     "ename": "NameError",
     "evalue": "name 'posterior' is not defined",
     "output_type": "error",
     "traceback": [
      "\u001b[0;31m---------------------------------------------------------------------------\u001b[0m",
      "\u001b[0;31mNameError\u001b[0m                                 Traceback (most recent call last)",
      "\u001b[0;32m<ipython-input-60-a509cd135359>\u001b[0m in \u001b[0;36m<module>\u001b[0;34m()\u001b[0m\n\u001b[1;32m      1\u001b[0m \u001b[0;31m# Get the posterior expected value of λ\u001b[0m\u001b[0;34m\u001b[0m\u001b[0;34m\u001b[0m\u001b[0m\n\u001b[0;32m----> 2\u001b[0;31m \u001b[0mlambda_\u001b[0m \u001b[0;34m=\u001b[0m \u001b[0msp\u001b[0m\u001b[0;34m.\u001b[0m\u001b[0mintegrate\u001b[0m\u001b[0;34m.\u001b[0m\u001b[0mtrapz\u001b[0m\u001b[0;34m(\u001b[0m\u001b[0mposterior\u001b[0m \u001b[0;34m*\u001b[0m \u001b[0mlambdas\u001b[0m\u001b[0;34m,\u001b[0m \u001b[0mlambdas\u001b[0m\u001b[0;34m)\u001b[0m\u001b[0;34m\u001b[0m\u001b[0m\n\u001b[0m\u001b[1;32m      3\u001b[0m \u001b[0mprint\u001b[0m\u001b[0;34m(\u001b[0m\u001b[0;34m'Expected value: λ ='\u001b[0m\u001b[0;34m,\u001b[0m \u001b[0mlambda_\u001b[0m\u001b[0;34m,\u001b[0m \u001b[0;34m'calls per minute'\u001b[0m\u001b[0;34m)\u001b[0m\u001b[0;34m\u001b[0m\u001b[0m\n\u001b[1;32m      4\u001b[0m \u001b[0;34m\u001b[0m\u001b[0m\n\u001b[1;32m      5\u001b[0m \u001b[0;31m# Plot the likelihood function for the expected λ on top of the data histogram\u001b[0m\u001b[0;34m\u001b[0m\u001b[0;34m\u001b[0m\u001b[0m\n",
      "\u001b[0;31mNameError\u001b[0m: name 'posterior' is not defined"
     ]
    }
   ],
   "source": [
    "# Get the posterior expected value of λ\n",
    "lambda_ = sp.integrate.trapz(posterior * lambdas, lambdas)\n",
    "print('Expected value: λ =', lambda_, 'calls per minute')\n",
    "\n",
    "# Plot the likelihood function for the expected λ on top of the data histogram\n",
    "plt.figure(figsize=(8, 6))\n",
    "plt.hist(waiting_times_hour, bins=20, density=True, color='#c0c0c0')\n",
    "x = np.linspace(0, max(waiting_times_hour), 200)\n",
    "plt.plot(x, sts.expon.pdf(x, scale=1/lambda_), label='expected value')\n",
    "plt.plot(x, sts.expon.pdf(x, scale=1/percentiles[0]), color='red', linestyle=':', label='98% interval')\n",
    "plt.plot(x, sts.expon.pdf(x, scale=1/percentiles[1]), color='red', linestyle=':')\n",
    "plt.xlabel('Time between calls [minutes]')\n",
    "plt.ylabel('Density')\n",
    "plt.title(f'Fit of posterior expected likelihood function to the data for hour {hour_index}')\n",
    "plt.legend()\n",
    "plt.show()"
   ]
  },
  {
   "cell_type": "code",
   "execution_count": null,
   "metadata": {
    "collapsed": true
   },
   "outputs": [],
   "source": []
  }
 ],
 "metadata": {
  "kernelspec": {
   "display_name": "Python 3",
   "language": "python",
   "name": "python3"
  },
  "language_info": {
   "codemirror_mode": {
    "name": "ipython",
    "version": 3
   },
   "file_extension": ".py",
   "mimetype": "text/x-python",
   "name": "python",
   "nbconvert_exporter": "python",
   "pygments_lexer": "ipython3",
   "version": "3.6.3"
  }
 },
 "nbformat": 4,
 "nbformat_minor": 2
}

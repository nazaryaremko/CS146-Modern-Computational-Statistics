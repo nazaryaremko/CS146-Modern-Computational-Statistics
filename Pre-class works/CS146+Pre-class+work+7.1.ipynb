{
 "cells": [
  {
   "cell_type": "code",
   "execution_count": 25,
   "metadata": {},
   "outputs": [
    {
     "name": "stdout",
     "output_type": "stream",
     "text": [
      "The confidence interval is: 81.02633403898972 118.97366596101028\n",
      "The % is: 0.018594192641790068\n"
     ]
    }
   ],
   "source": [
    "import numpy as np\n",
    "from scipy.stats import binom\n",
    "import math\n",
    "\n",
    "p = 0.1\n",
    "q = 0.9\n",
    "n = 1000\n",
    "\n",
    "mean = n*p\n",
    "stdev = np.sqrt(q*mean)\n",
    "\n",
    "print('The confidence interval is:', mean-2*stdev, mean+2*stdev)\n",
    "print('The % is:', (1.96*stdev)/n)"
   ]
  },
  {
   "cell_type": "code",
   "execution_count": 35,
   "metadata": {},
   "outputs": [
    {
     "name": "stdout",
     "output_type": "stream",
     "text": [
      "[[ 2.  2.  3.  4.  6.]\n",
      " [ 3.  3.  4.  5.  8.]\n",
      " [ 3.  3.  4.  6.  9.]\n",
      " [ 3.  4.  4.  6. 10.]\n",
      " [ 3.  4.  4.  6. 10.]\n",
      " [ 3.  4.  4.  6. 10.]\n",
      " [ 3.  3.  4.  6.  9.]\n",
      " [ 3.  3.  4.  5.  8.]\n",
      " [ 2.  2.  3.  4.  6.]]\n"
     ]
    }
   ],
   "source": [
    "sample_sizes = [1000,750,500,250,100]\n",
    "percentages = np.linspace(0.1,0.9,9)\n",
    "matrix = np.zeros([9, 5])\n",
    "\n",
    "for x in range(np.shape(matrix)[0]):\n",
    "    for y in range(np.shape(matrix)[1]):\n",
    "        p = percentages[x]\n",
    "        q = 1-p\n",
    "        n = sample_sizes[y]\n",
    "        mean = n*p\n",
    "        stdev = np.sqrt(q*mean)\n",
    "        matrix[x,y] = round((2*stdev)/n, 2)*100\n",
    "        \n",
    "print(matrix)"
   ]
  }
 ],
 "metadata": {
  "kernelspec": {
   "display_name": "Python 3",
   "language": "python",
   "name": "python3"
  },
  "language_info": {
   "codemirror_mode": {
    "name": "ipython",
    "version": 3
   },
   "file_extension": ".py",
   "mimetype": "text/x-python",
   "name": "python",
   "nbconvert_exporter": "python",
   "pygments_lexer": "ipython3",
   "version": "3.6.3"
  }
 },
 "nbformat": 4,
 "nbformat_minor": 2
}

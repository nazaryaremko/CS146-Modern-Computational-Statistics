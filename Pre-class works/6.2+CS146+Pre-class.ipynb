{
 "cells": [
  {
   "cell_type": "code",
   "execution_count": 1,
   "metadata": {},
   "outputs": [
    {
     "name": "stdout",
     "output_type": "stream",
     "text": [
      "0      703\n",
      "1     1478\n",
      "2     1430\n",
      "3     1109\n",
      "4       58\n",
      "5     1756\n",
      "6     1630\n",
      "7     1568\n",
      "8       63\n",
      "9     1453\n",
      "10    2068\n",
      "11    2483\n",
      "12      61\n",
      "13     749\n",
      "14    1183\n",
      "15    3315\n",
      "Name: count, dtype: int64\n"
     ]
    }
   ],
   "source": [
    "import pandas\n",
    "df = pandas.read_csv('socialmobility.csv')\n",
    "print(df['count'])"
   ]
  },
  {
   "cell_type": "code",
   "execution_count": 2,
   "metadata": {},
   "outputs": [
    {
     "name": "stdout",
     "output_type": "stream",
     "text": [
      "          father           son  count\n",
      "0           farm          farm    703\n",
      "1           farm     unskilled   1478\n",
      "2           farm       skilled   1430\n",
      "3           farm  professional   1109\n",
      "4      unskilled          farm     58\n",
      "5      unskilled     unskilled   1756\n",
      "6      unskilled       skilled   1630\n",
      "7      unskilled  professional   1568\n",
      "8        skilled          farm     63\n",
      "9        skilled     unskilled   1453\n",
      "10       skilled       skilled   2068\n",
      "11       skilled  professional   2483\n",
      "12  professional          farm     61\n",
      "13  professional     unskilled    749\n",
      "14  professional       skilled   1183\n",
      "15  professional  professional   3315\n"
     ]
    }
   ],
   "source": [
    "print(df)"
   ]
  },
  {
   "cell_type": "code",
   "execution_count": 19,
   "metadata": {},
   "outputs": [
    {
     "name": "stdout",
     "output_type": "stream",
     "text": [
      "The 95% credible interval over the probability that a son will become a skilled laborer if his father was an unskilled laborer is: [0.07367833 0.08090701]\n",
      "The 95% credible interval over the probability that a father works on a farm if his son works as a professional is: [0.12387457 0.1381044 ]\n"
     ]
    }
   ],
   "source": [
    "from scipy import stats\n",
    "import numpy as np\n",
    "\n",
    "#creating a prior vector which I will update to posteror values\n",
    "prior_vector1 = [1,1,1,1]\n",
    "posterior_vector1 = []\n",
    "for i in range(len(prior_vector1)):\n",
    "    posterior_vector1.append(prior_vector1[i]+df['count'][i])\n",
    "    \n",
    "#creating a posterior diistribution and sampling values from there\n",
    "posterior_dir1 = stats.dirichlet(posterior_vector)\n",
    "samples1 = posterior_dir.rvs(10000)\n",
    "\n",
    "#appending a probability of unskilled->skilled labor transition from each sample\n",
    "unskilled_to_skilled = []\n",
    "for i in samples1:\n",
    "    unskilled_to_skilled.append(i[6])\n",
    "    \n",
    "print('The 95% credible interval over the probability that a son will become a skilled laborer if his father was an unskilled laborer is:', np.percentile(unskilled_to_skilled, [2.5, 97.5]))\n",
    "\n",
    "#creating a prior vector which I will update to posteror values\n",
    "prior_vector1 = [1,1,1,1]\n",
    "posterior_vector1 = []\n",
    "for i in range(len(prior_vector1)):\n",
    "    posterior_vector1.append(prior_vector1[i]+df['count'][i])\n",
    "    \n",
    "posterior_dir1 = stats.dirichlet(posterior_vector)\n",
    "samples1 = posterior_dir.rvs(10000)\n",
    "\n",
    "conditional_probabilities = []\n",
    "\n",
    "#here  am using the formula: P(A|B) = P(A and B)/(P(B))\n",
    "for i in samples:\n",
    "    conditional_probabilities.append(i[3]/(i[3]+i[7]+i[11]+i[15]))\n",
    "\n",
    "print('The 95% credible interval over the probability that a father works on a farm if his son works as a professional is:', np.percentile(conditional_probabilities, [2.5, 97.5]))"
   ]
  }
 ],
 "metadata": {
  "kernelspec": {
   "display_name": "Python 3",
   "language": "python",
   "name": "python3"
  },
  "language_info": {
   "codemirror_mode": {
    "name": "ipython",
    "version": 3
   },
   "file_extension": ".py",
   "mimetype": "text/x-python",
   "name": "python",
   "nbconvert_exporter": "python",
   "pygments_lexer": "ipython3",
   "version": "3.6.3"
  }
 },
 "nbformat": 4,
 "nbformat_minor": 2
}
